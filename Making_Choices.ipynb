{
 "cells": [
  {
   "cell_type": "markdown",
   "metadata": {},
   "source": [
    "## Conditionals"
   ]
  },
  {
   "cell_type": "code",
   "execution_count": 1,
   "metadata": {},
   "outputs": [
    {
     "name": "stdout",
     "output_type": "stream",
     "text": [
      "not greater\n",
      "finished\n"
     ]
    }
   ],
   "source": [
    "num = 37\n",
    "if num > 100:\n",
    "    print(\"Greater\")\n",
    "else:\n",
    "    print(\"not greater\")\n",
    "    \n",
    "print(\"finished\")"
   ]
  },
  {
   "cell_type": "code",
   "execution_count": 3,
   "metadata": {},
   "outputs": [
    {
     "name": "stdout",
     "output_type": "stream",
     "text": [
      "Is 200\n"
     ]
    }
   ],
   "source": [
    "new_num = 200\n",
    "if new_num < 100:\n",
    "    print(\"Doing something\")\n",
    "\n",
    "elif new_num > 1000:\n",
    "    print(\"Greather than 1000\")\n",
    "\n",
    "elif new_num > 10000:\n",
    "    print(\"aa\")\n",
    "\n",
    "elif new_num == 200:\n",
    "    print(\"Is 200\")\n",
    "    \n",
    "else:\n",
    "    print(\"in between\")"
   ]
  },
  {
   "cell_type": "code",
   "execution_count": 5,
   "metadata": {},
   "outputs": [],
   "source": [
    "if(1 > 0) and (-1 < 0) and (10 > 20):\n",
    "    print(\"Both true\")"
   ]
  },
  {
   "cell_type": "markdown",
   "metadata": {},
   "source": [
    "## Checking our data"
   ]
  },
  {
   "cell_type": "code",
   "execution_count": 4,
   "metadata": {},
   "outputs": [],
   "source": [
    "import numpy"
   ]
  },
  {
   "cell_type": "code",
   "execution_count": 7,
   "metadata": {},
   "outputs": [
    {
     "name": "stdout",
     "output_type": "stream",
     "text": [
      "Mean < 10\n"
     ]
    }
   ],
   "source": [
    "data = numpy.loadtxt('data/inflammation-01.csv', delimiter=',')\n",
    "mean = numpy.mean(data, axis=0)\n",
    "\n",
    "if mean[0] > 10:\n",
    "    print(\"Mean > 10\")\n",
    "else:\n",
    "    print(\"Mean < 10\")"
   ]
  },
  {
   "cell_type": "code",
   "execution_count": 9,
   "metadata": {},
   "outputs": [
    {
     "name": "stdout",
     "output_type": "stream",
     "text": [
      "data/inflammation-01.csv\n",
      "data/inflammation-02.csv\n",
      "data/inflammation-03.csv\n",
      "Suspicious data - check\n",
      "data/inflammation-04.csv\n",
      "data/inflammation-05.csv\n",
      "data/inflammation-06.csv\n",
      "data/inflammation-07.csv\n",
      "data/inflammation-08.csv\n",
      "Suspicious data - check\n",
      "data/inflammation-09.csv\n",
      "data/inflammation-10.csv\n",
      "data/inflammation-11.csv\n",
      "Suspicious data - check\n",
      "data/inflammation-12.csv\n"
     ]
    }
   ],
   "source": [
    "import glob\n",
    "\n",
    "filenames = sorted(glob.glob('data/inflammation-*.csv'))\n",
    "for filename in filenames:\n",
    "    print(filename)\n",
    "    data = numpy.loadtxt(filename, delimiter=',')\n",
    "    \n",
    "    min_value = numpy.min(data, axis=0)\n",
    "    \n",
    "    sum_of_min = numpy.sum(min_value)\n",
    "    \n",
    "    if sum_of_min == 0:\n",
    "        print(\"Suspicious data - check\")"
   ]
  },
  {
   "cell_type": "code",
   "execution_count": 12,
   "metadata": {},
   "outputs": [
    {
     "name": "stdout",
     "output_type": "stream",
     "text": [
      "c\n"
     ]
    }
   ],
   "source": [
    "if 4 > 5:\n",
    "    print(\"a\")\n",
    "elif 4 == 5:\n",
    "    print(\"b\")\n",
    "elif 4 < 5:\n",
    "    print(\"c\")"
   ]
  },
  {
   "cell_type": "code",
   "execution_count": null,
   "metadata": {},
   "outputs": [],
   "source": [
    "temperature = 1"
   ]
  },
  {
   "cell_type": "code",
   "execution_count": null,
   "metadata": {},
   "outputs": [],
   "source": []
  }
 ],
 "metadata": {
  "kernelspec": {
   "display_name": "Python 3",
   "language": "python",
   "name": "python3"
  },
  "language_info": {
   "codemirror_mode": {
    "name": "ipython",
    "version": 3
   },
   "file_extension": ".py",
   "mimetype": "text/x-python",
   "name": "python",
   "nbconvert_exporter": "python",
   "pygments_lexer": "ipython3",
   "version": "3.8.3"
  }
 },
 "nbformat": 4,
 "nbformat_minor": 4
}
